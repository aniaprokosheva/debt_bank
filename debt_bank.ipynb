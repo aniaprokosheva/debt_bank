{
 "cells": [
  {
   "cell_type": "markdown",
   "id": "11a85941",
   "metadata": {},
   "source": [
    "# Исследование надежности заемщиков\n",
    "\n",
    "**Цель исследования:** провести исследовательский анализ платёжеспособности клиентов.\n",
    "\n",
    "**Инструменты:** создание функций, сводных таблиц, категоризация данных, столбчатые диаграммы.\n",
    "\n",
    "**Библиотеки:** matplotlib, seaborn\n",
    "\n",
    "## Описание проекта\n",
    "Заказчик — кредитный отдел банка. Нужно разобраться, влияет ли семейное положение и количество детей клиента на факт погашения кредита в срок. Входные данные от банка — статистика о платёжеспособности клиентов.\n",
    "Результаты исследования будут учтены при построении модели кредитного скоринга — специальной системы, которая оценивает способность потенциального заёмщика вернуть кредит банку.\n",
    "\n",
    "## Описание данных\n",
    "- `children` — количество детей в семье\n",
    "- `days_employed` — общий трудовой стаж в днях\n",
    "- `dob_years` — возраст клиента в годах\n",
    "- `education` — уровень образования клиента\n",
    "- `education_id` — идентификатор уровня образования\n",
    "- `family_status` — семейное положение\n",
    "- `family_status_id` — идентификатор семейного положения\n",
    "- `gender` — пол клиента\n",
    "- `income_type` — тип занятости\n",
    "- `debt` — имел ли задолженность по возврату кредитов\n",
    "- `total_income` — ежемесячный доход\n",
    "- `purpose` — цель получения кредита"
   ]
  },
  {
   "cell_type": "code",
   "execution_count": 1,
   "id": "27306a64",
   "metadata": {},
   "outputs": [],
   "source": [
    "import pandas as pd\n",
    "from matplotlib import pyplot as plt\n",
    "import seaborn as sns"
   ]
  },
  {
   "cell_type": "markdown",
   "id": "bcdf96e4",
   "metadata": {},
   "source": [
    "## 1 Общая информация"
   ]
  },
  {
   "cell_type": "code",
   "execution_count": 2,
   "id": "6c5d7a8b",
   "metadata": {},
   "outputs": [
    {
     "name": "stdout",
     "output_type": "stream",
     "text": [
      "<class 'pandas.core.frame.DataFrame'>\n",
      "RangeIndex: 21525 entries, 0 to 21524\n",
      "Data columns (total 12 columns):\n",
      " #   Column            Non-Null Count  Dtype  \n",
      "---  ------            --------------  -----  \n",
      " 0   children          21525 non-null  int64  \n",
      " 1   days_employed     19351 non-null  float64\n",
      " 2   dob_years         21525 non-null  int64  \n",
      " 3   education         21525 non-null  object \n",
      " 4   education_id      21525 non-null  int64  \n",
      " 5   family_status     21525 non-null  object \n",
      " 6   family_status_id  21525 non-null  int64  \n",
      " 7   gender            21525 non-null  object \n",
      " 8   income_type       21525 non-null  object \n",
      " 9   debt              21525 non-null  int64  \n",
      " 10  total_income      19351 non-null  float64\n",
      " 11  purpose           21525 non-null  object \n",
      "dtypes: float64(2), int64(5), object(5)\n",
      "memory usage: 2.0+ MB\n"
     ]
    }
   ],
   "source": [
    "try:\n",
    "    data = pd.read_csv('/Users/aniaprokosheva/projects/datasets/clients_bank.csv')\n",
    "except:\n",
    "    data = pd.read_csv('https://code.s3.yandex.net/datasets/data.csv')\n",
    "data.info()"
   ]
  },
  {
   "cell_type": "code",
   "execution_count": 3,
   "id": "829e1967",
   "metadata": {},
   "outputs": [
    {
     "data": {
      "text/html": [
       "<div>\n",
       "<style scoped>\n",
       "    .dataframe tbody tr th:only-of-type {\n",
       "        vertical-align: middle;\n",
       "    }\n",
       "\n",
       "    .dataframe tbody tr th {\n",
       "        vertical-align: top;\n",
       "    }\n",
       "\n",
       "    .dataframe thead th {\n",
       "        text-align: right;\n",
       "    }\n",
       "</style>\n",
       "<table border=\"1\" class=\"dataframe\">\n",
       "  <thead>\n",
       "    <tr style=\"text-align: right;\">\n",
       "      <th></th>\n",
       "      <th>children</th>\n",
       "      <th>days_employed</th>\n",
       "      <th>dob_years</th>\n",
       "      <th>education</th>\n",
       "      <th>education_id</th>\n",
       "      <th>family_status</th>\n",
       "      <th>family_status_id</th>\n",
       "      <th>gender</th>\n",
       "      <th>income_type</th>\n",
       "      <th>debt</th>\n",
       "      <th>total_income</th>\n",
       "      <th>purpose</th>\n",
       "    </tr>\n",
       "  </thead>\n",
       "  <tbody>\n",
       "    <tr>\n",
       "      <th>0</th>\n",
       "      <td>1</td>\n",
       "      <td>-8437.673028</td>\n",
       "      <td>42</td>\n",
       "      <td>высшее</td>\n",
       "      <td>0</td>\n",
       "      <td>женат / замужем</td>\n",
       "      <td>0</td>\n",
       "      <td>F</td>\n",
       "      <td>сотрудник</td>\n",
       "      <td>0</td>\n",
       "      <td>253875.639453</td>\n",
       "      <td>покупка жилья</td>\n",
       "    </tr>\n",
       "    <tr>\n",
       "      <th>1</th>\n",
       "      <td>1</td>\n",
       "      <td>-4024.803754</td>\n",
       "      <td>36</td>\n",
       "      <td>среднее</td>\n",
       "      <td>1</td>\n",
       "      <td>женат / замужем</td>\n",
       "      <td>0</td>\n",
       "      <td>F</td>\n",
       "      <td>сотрудник</td>\n",
       "      <td>0</td>\n",
       "      <td>112080.014102</td>\n",
       "      <td>приобретение автомобиля</td>\n",
       "    </tr>\n",
       "    <tr>\n",
       "      <th>2</th>\n",
       "      <td>0</td>\n",
       "      <td>-5623.422610</td>\n",
       "      <td>33</td>\n",
       "      <td>Среднее</td>\n",
       "      <td>1</td>\n",
       "      <td>женат / замужем</td>\n",
       "      <td>0</td>\n",
       "      <td>M</td>\n",
       "      <td>сотрудник</td>\n",
       "      <td>0</td>\n",
       "      <td>145885.952297</td>\n",
       "      <td>покупка жилья</td>\n",
       "    </tr>\n",
       "    <tr>\n",
       "      <th>3</th>\n",
       "      <td>3</td>\n",
       "      <td>-4124.747207</td>\n",
       "      <td>32</td>\n",
       "      <td>среднее</td>\n",
       "      <td>1</td>\n",
       "      <td>женат / замужем</td>\n",
       "      <td>0</td>\n",
       "      <td>M</td>\n",
       "      <td>сотрудник</td>\n",
       "      <td>0</td>\n",
       "      <td>267628.550329</td>\n",
       "      <td>дополнительное образование</td>\n",
       "    </tr>\n",
       "    <tr>\n",
       "      <th>4</th>\n",
       "      <td>0</td>\n",
       "      <td>340266.072047</td>\n",
       "      <td>53</td>\n",
       "      <td>среднее</td>\n",
       "      <td>1</td>\n",
       "      <td>гражданский брак</td>\n",
       "      <td>1</td>\n",
       "      <td>F</td>\n",
       "      <td>пенсионер</td>\n",
       "      <td>0</td>\n",
       "      <td>158616.077870</td>\n",
       "      <td>сыграть свадьбу</td>\n",
       "    </tr>\n",
       "  </tbody>\n",
       "</table>\n",
       "</div>"
      ],
      "text/plain": [
       "   children  days_employed  dob_years education  education_id  \\\n",
       "0         1   -8437.673028         42    высшее             0   \n",
       "1         1   -4024.803754         36   среднее             1   \n",
       "2         0   -5623.422610         33   Среднее             1   \n",
       "3         3   -4124.747207         32   среднее             1   \n",
       "4         0  340266.072047         53   среднее             1   \n",
       "\n",
       "      family_status  family_status_id gender income_type  debt   total_income  \\\n",
       "0   женат / замужем                 0      F   сотрудник     0  253875.639453   \n",
       "1   женат / замужем                 0      F   сотрудник     0  112080.014102   \n",
       "2   женат / замужем                 0      M   сотрудник     0  145885.952297   \n",
       "3   женат / замужем                 0      M   сотрудник     0  267628.550329   \n",
       "4  гражданский брак                 1      F   пенсионер     0  158616.077870   \n",
       "\n",
       "                      purpose  \n",
       "0               покупка жилья  \n",
       "1     приобретение автомобиля  \n",
       "2               покупка жилья  \n",
       "3  дополнительное образование  \n",
       "4             сыграть свадьбу  "
      ]
     },
     "execution_count": 3,
     "metadata": {},
     "output_type": "execute_result"
    }
   ],
   "source": [
    "data.head()"
   ]
  },
  {
   "cell_type": "code",
   "execution_count": 4,
   "id": "54610efa",
   "metadata": {},
   "outputs": [
    {
     "data": {
      "text/html": [
       "<div>\n",
       "<style scoped>\n",
       "    .dataframe tbody tr th:only-of-type {\n",
       "        vertical-align: middle;\n",
       "    }\n",
       "\n",
       "    .dataframe tbody tr th {\n",
       "        vertical-align: top;\n",
       "    }\n",
       "\n",
       "    .dataframe thead th {\n",
       "        text-align: right;\n",
       "    }\n",
       "</style>\n",
       "<table border=\"1\" class=\"dataframe\">\n",
       "  <thead>\n",
       "    <tr style=\"text-align: right;\">\n",
       "      <th></th>\n",
       "      <th>count</th>\n",
       "      <th>mean</th>\n",
       "      <th>std</th>\n",
       "      <th>min</th>\n",
       "      <th>25%</th>\n",
       "      <th>50%</th>\n",
       "      <th>75%</th>\n",
       "      <th>max</th>\n",
       "    </tr>\n",
       "  </thead>\n",
       "  <tbody>\n",
       "    <tr>\n",
       "      <th>children</th>\n",
       "      <td>21525.0</td>\n",
       "      <td>0.538908</td>\n",
       "      <td>1.381587</td>\n",
       "      <td>-1.000000</td>\n",
       "      <td>0.000000</td>\n",
       "      <td>0.000000</td>\n",
       "      <td>1.000000</td>\n",
       "      <td>2.000000e+01</td>\n",
       "    </tr>\n",
       "    <tr>\n",
       "      <th>days_employed</th>\n",
       "      <td>19351.0</td>\n",
       "      <td>63046.497661</td>\n",
       "      <td>140827.311974</td>\n",
       "      <td>-18388.949901</td>\n",
       "      <td>-2747.423625</td>\n",
       "      <td>-1203.369529</td>\n",
       "      <td>-291.095954</td>\n",
       "      <td>4.017554e+05</td>\n",
       "    </tr>\n",
       "    <tr>\n",
       "      <th>dob_years</th>\n",
       "      <td>21525.0</td>\n",
       "      <td>43.293380</td>\n",
       "      <td>12.574584</td>\n",
       "      <td>0.000000</td>\n",
       "      <td>33.000000</td>\n",
       "      <td>42.000000</td>\n",
       "      <td>53.000000</td>\n",
       "      <td>7.500000e+01</td>\n",
       "    </tr>\n",
       "    <tr>\n",
       "      <th>education_id</th>\n",
       "      <td>21525.0</td>\n",
       "      <td>0.817236</td>\n",
       "      <td>0.548138</td>\n",
       "      <td>0.000000</td>\n",
       "      <td>1.000000</td>\n",
       "      <td>1.000000</td>\n",
       "      <td>1.000000</td>\n",
       "      <td>4.000000e+00</td>\n",
       "    </tr>\n",
       "    <tr>\n",
       "      <th>family_status_id</th>\n",
       "      <td>21525.0</td>\n",
       "      <td>0.972544</td>\n",
       "      <td>1.420324</td>\n",
       "      <td>0.000000</td>\n",
       "      <td>0.000000</td>\n",
       "      <td>0.000000</td>\n",
       "      <td>1.000000</td>\n",
       "      <td>4.000000e+00</td>\n",
       "    </tr>\n",
       "    <tr>\n",
       "      <th>debt</th>\n",
       "      <td>21525.0</td>\n",
       "      <td>0.080883</td>\n",
       "      <td>0.272661</td>\n",
       "      <td>0.000000</td>\n",
       "      <td>0.000000</td>\n",
       "      <td>0.000000</td>\n",
       "      <td>0.000000</td>\n",
       "      <td>1.000000e+00</td>\n",
       "    </tr>\n",
       "    <tr>\n",
       "      <th>total_income</th>\n",
       "      <td>19351.0</td>\n",
       "      <td>167422.302208</td>\n",
       "      <td>102971.566448</td>\n",
       "      <td>20667.263793</td>\n",
       "      <td>103053.152913</td>\n",
       "      <td>145017.937533</td>\n",
       "      <td>203435.067663</td>\n",
       "      <td>2.265604e+06</td>\n",
       "    </tr>\n",
       "  </tbody>\n",
       "</table>\n",
       "</div>"
      ],
      "text/plain": [
       "                    count           mean            std           min  \\\n",
       "children          21525.0       0.538908       1.381587     -1.000000   \n",
       "days_employed     19351.0   63046.497661  140827.311974 -18388.949901   \n",
       "dob_years         21525.0      43.293380      12.574584      0.000000   \n",
       "education_id      21525.0       0.817236       0.548138      0.000000   \n",
       "family_status_id  21525.0       0.972544       1.420324      0.000000   \n",
       "debt              21525.0       0.080883       0.272661      0.000000   \n",
       "total_income      19351.0  167422.302208  102971.566448  20667.263793   \n",
       "\n",
       "                            25%            50%            75%           max  \n",
       "children               0.000000       0.000000       1.000000  2.000000e+01  \n",
       "days_employed      -2747.423625   -1203.369529    -291.095954  4.017554e+05  \n",
       "dob_years             33.000000      42.000000      53.000000  7.500000e+01  \n",
       "education_id           1.000000       1.000000       1.000000  4.000000e+00  \n",
       "family_status_id       0.000000       0.000000       1.000000  4.000000e+00  \n",
       "debt                   0.000000       0.000000       0.000000  1.000000e+00  \n",
       "total_income      103053.152913  145017.937533  203435.067663  2.265604e+06  "
      ]
     },
     "execution_count": 4,
     "metadata": {},
     "output_type": "execute_result"
    }
   ],
   "source": [
    "data.describe().T"
   ]
  },
  {
   "cell_type": "markdown",
   "id": "de4225ea",
   "metadata": {},
   "source": [
    "**Вывод:** Наблюдаются аномалии в столбцах `days_employed`, `children`. Столбцы `days_employed` и `total_income` содержат пропуски - нужно их обработать. Типы данных в принципе правильные, можно их поменять для уменьшение общей памяти."
   ]
  },
  {
   "cell_type": "markdown",
   "id": "3c2ff428",
   "metadata": {},
   "source": [
    "## 2 Предобработка данных"
   ]
  },
  {
   "cell_type": "markdown",
   "id": "ec536b53",
   "metadata": {},
   "source": [
    "### 2.1 Обработка аномальных значений"
   ]
  },
  {
   "cell_type": "markdown",
   "id": "70a3aa04",
   "metadata": {},
   "source": [
    "Замечены артефакты в столбце `days_employed` - отрицательное количество дней трудового стажа. Обработаем. "
   ]
  },
  {
   "cell_type": "code",
   "execution_count": 5,
   "id": "cc1505ac",
   "metadata": {},
   "outputs": [],
   "source": [
    "# замена отрицательного количества дней трудового стажа\n",
    "data['days_employed'] = data['days_employed'].abs()"
   ]
  },
  {
   "cell_type": "code",
   "execution_count": 6,
   "id": "53efec8a",
   "metadata": {},
   "outputs": [
    {
     "data": {
      "text/plain": [
       "array([ 1,  0,  3,  2, -1,  4, 20,  5])"
      ]
     },
     "execution_count": 6,
     "metadata": {},
     "output_type": "execute_result"
    }
   ],
   "source": [
    "# перечень уникальных значений столбца children\n",
    "data['children'].unique()"
   ]
  },
  {
   "cell_type": "code",
   "execution_count": 7,
   "id": "7030f46d",
   "metadata": {},
   "outputs": [
    {
     "data": {
      "text/plain": [
       "array([1, 0, 3, 2, 4, 5])"
      ]
     },
     "execution_count": 7,
     "metadata": {},
     "output_type": "execute_result"
    }
   ],
   "source": [
    "# удалим аномальные значения\n",
    "data = data[(data['children'] != -1) & (data['children'] != 20)]\n",
    "\n",
    "# проверка\n",
    "data['children'].unique()"
   ]
  },
  {
   "cell_type": "markdown",
   "id": "4cf5e68e",
   "metadata": {},
   "source": [
    "**Аномалии убрали.**"
   ]
  },
  {
   "cell_type": "markdown",
   "id": "5fa85316",
   "metadata": {},
   "source": [
    "### 2.2 Удаление пропусков"
   ]
  },
  {
   "cell_type": "code",
   "execution_count": 8,
   "id": "05779052",
   "metadata": {},
   "outputs": [
    {
     "data": {
      "text/plain": [
       "children               0\n",
       "days_employed       2162\n",
       "dob_years              0\n",
       "education              0\n",
       "education_id           0\n",
       "family_status          0\n",
       "family_status_id       0\n",
       "gender                 0\n",
       "income_type            0\n",
       "debt                   0\n",
       "total_income        2162\n",
       "purpose                0\n",
       "dtype: int64"
      ]
     },
     "execution_count": 8,
     "metadata": {},
     "output_type": "execute_result"
    }
   ],
   "source": [
    "# пропуски\n",
    "data.isna().sum()"
   ]
  },
  {
   "cell_type": "markdown",
   "id": "7e5ae2ea",
   "metadata": {},
   "source": [
    "`total_income` хранит данные о доходах. На сумму дохода сильнее всего влияет тип занятости, поэтому заполнить пропуски можно медианным значением по каждому типу из столбца `income_type`."
   ]
  },
  {
   "cell_type": "code",
   "execution_count": 9,
   "id": "e62ffcaa",
   "metadata": {},
   "outputs": [],
   "source": [
    "# заполнение пропусков в total_income\n",
    "for t in data['income_type'].unique():\n",
    "    data.loc[(data['income_type'] == t) & (data['total_income'].isna()), 'total_income'] = \\\n",
    "    data.loc[(data['income_type'] == t), 'total_income'].median()"
   ]
  },
  {
   "cell_type": "code",
   "execution_count": 10,
   "id": "01553268",
   "metadata": {},
   "outputs": [],
   "source": [
    "# заполнение пропусков в days_employed \n",
    "# медианными значениями по каждому типу занятости income_type\n",
    "for t in data['income_type'].unique():\n",
    "        data.loc[(data['income_type'] == t) & (data['days_employed'].isna()), 'days_employed'] = \\\n",
    "        data.loc[(data['income_type'] == t), 'days_employed'].median()"
   ]
  },
  {
   "cell_type": "code",
   "execution_count": 11,
   "id": "5b8e2006",
   "metadata": {},
   "outputs": [
    {
     "data": {
      "text/plain": [
       "children            0\n",
       "days_employed       0\n",
       "dob_years           0\n",
       "education           0\n",
       "education_id        0\n",
       "family_status       0\n",
       "family_status_id    0\n",
       "gender              0\n",
       "income_type         0\n",
       "debt                0\n",
       "total_income        0\n",
       "purpose             0\n",
       "dtype: int64"
      ]
     },
     "execution_count": 11,
     "metadata": {},
     "output_type": "execute_result"
    }
   ],
   "source": [
    "# проверка\n",
    "data.isna().sum()"
   ]
  },
  {
   "cell_type": "markdown",
   "id": "f83604e8",
   "metadata": {},
   "source": [
    "**Пропусков в обработанном датасете нет.**\n",
    "* Пропуски могут быть случайными, например, человеческий фактор - случайно не записали данные. \n",
    "* И пропуски могут быть неслучайными, например, не существует данных по этой характеристике. "
   ]
  },
  {
   "cell_type": "markdown",
   "id": "e2eb2227",
   "metadata": {},
   "source": [
    "### 2.3 Изменение типов данных"
   ]
  },
  {
   "cell_type": "code",
   "execution_count": 12,
   "id": "38c8a0d2",
   "metadata": {},
   "outputs": [
    {
     "name": "stdout",
     "output_type": "stream",
     "text": [
      "<class 'pandas.core.frame.DataFrame'>\n",
      "Int64Index: 21402 entries, 0 to 21524\n",
      "Data columns (total 12 columns):\n",
      " #   Column            Non-Null Count  Dtype \n",
      "---  ------            --------------  ----- \n",
      " 0   children          21402 non-null  int8  \n",
      " 1   days_employed     21402 non-null  int32 \n",
      " 2   dob_years         21402 non-null  int8  \n",
      " 3   education         21402 non-null  object\n",
      " 4   education_id      21402 non-null  int8  \n",
      " 5   family_status     21402 non-null  object\n",
      " 6   family_status_id  21402 non-null  int8  \n",
      " 7   gender            21402 non-null  object\n",
      " 8   income_type       21402 non-null  object\n",
      " 9   debt              21402 non-null  int8  \n",
      " 10  total_income      21402 non-null  int32 \n",
      " 11  purpose           21402 non-null  object\n",
      "dtypes: int32(2), int8(5), object(5)\n",
      "memory usage: 1.2+ MB\n"
     ]
    }
   ],
   "source": [
    "data['days_employed'] = data['days_employed'].astype('int32')\n",
    "data['total_income'] = data['total_income'].astype('int32')\n",
    "data['children'] = data['children'].astype('int8')\n",
    "data['dob_years'] = data['dob_years'].astype('int8')\n",
    "data['education_id'] = data['education_id'].astype('int8')\n",
    "data['family_status_id'] = data['family_status_id'].astype('int8')\n",
    "data['debt'] = data['debt'].astype('int8')\n",
    "\n",
    "data.info()"
   ]
  },
  {
   "cell_type": "markdown",
   "id": "6d05c909",
   "metadata": {},
   "source": [
    "**Изменив тип данных, общая память уменьшилась с 2.0+ МВ до 1.2+ МВ.**"
   ]
  },
  {
   "cell_type": "markdown",
   "id": "826a4a0f",
   "metadata": {},
   "source": [
    "### 2.4 Обработка дубликатов"
   ]
  },
  {
   "cell_type": "code",
   "execution_count": 13,
   "id": "41f81eaf",
   "metadata": {},
   "outputs": [
    {
     "data": {
      "text/plain": [
       "array(['высшее', 'среднее', 'Среднее', 'СРЕДНЕЕ', 'ВЫСШЕЕ',\n",
       "       'неоконченное высшее', 'начальное', 'Высшее',\n",
       "       'НЕОКОНЧЕННОЕ ВЫСШЕЕ', 'Неоконченное высшее', 'НАЧАЛЬНОЕ',\n",
       "       'Начальное', 'Ученая степень', 'УЧЕНАЯ СТЕПЕНЬ', 'ученая степень'],\n",
       "      dtype=object)"
      ]
     },
     "execution_count": 13,
     "metadata": {},
     "output_type": "execute_result"
    }
   ],
   "source": [
    "# уникальные значения в столбце education \n",
    "data['education'].unique()"
   ]
  },
  {
   "cell_type": "code",
   "execution_count": 14,
   "id": "55209bee",
   "metadata": {},
   "outputs": [],
   "source": [
    "# приведем к нижнему регистру\n",
    "data['education'] = data['education'].str.lower()"
   ]
  },
  {
   "cell_type": "code",
   "execution_count": 15,
   "id": "f03c7b2a",
   "metadata": {},
   "outputs": [
    {
     "data": {
      "text/plain": [
       "71"
      ]
     },
     "execution_count": 15,
     "metadata": {},
     "output_type": "execute_result"
    }
   ],
   "source": [
    "# дубликаты\n",
    "data.duplicated().sum()"
   ]
  },
  {
   "cell_type": "code",
   "execution_count": 16,
   "id": "01edde72",
   "metadata": {},
   "outputs": [],
   "source": [
    "# удалим дубликаты\n",
    "data = data.drop_duplicates()"
   ]
  },
  {
   "cell_type": "markdown",
   "id": "ebd26413",
   "metadata": {},
   "source": [
    "### 2.5 Категоризация данных"
   ]
  },
  {
   "cell_type": "markdown",
   "id": "ee64a83e",
   "metadata": {},
   "source": [
    "#### 2.5.1 Категории по ежемесячному доходу"
   ]
  },
  {
   "cell_type": "markdown",
   "id": "27330523",
   "metadata": {},
   "source": [
    "Столбец `total_income_category` с категориями:\n",
    "- 0–30000 — 'E';\n",
    "- 30001–50000 — 'D';\n",
    "- 50001–200000 — 'C';\n",
    "- 200001–1000000 — 'B';\n",
    "- 1000001 и выше — 'A'."
   ]
  },
  {
   "cell_type": "code",
   "execution_count": 17,
   "id": "0bf8f530",
   "metadata": {},
   "outputs": [],
   "source": [
    "# функция для создания категорий по ежемесячному доходу\n",
    "def categorize_income(income):\n",
    "    try:\n",
    "        if 0 <= income <= 30000:\n",
    "            return 'E'\n",
    "        elif 30001 <= income <= 50000:\n",
    "            return 'D'\n",
    "        elif 50001 <= income <= 200000:\n",
    "            return 'C'\n",
    "        elif 200001 <= income <= 1000000:\n",
    "            return 'B'\n",
    "        elif income >= 1000001:\n",
    "            return 'A'\n",
    "    except:\n",
    "        pass"
   ]
  },
  {
   "cell_type": "code",
   "execution_count": 18,
   "id": "71b20439",
   "metadata": {},
   "outputs": [],
   "source": [
    "data['total_income_category'] = data['total_income'].apply(categorize_income)"
   ]
  },
  {
   "cell_type": "markdown",
   "id": "8eb11653",
   "metadata": {},
   "source": [
    "#### 2.5.2 Категории в зависимости от целей взятия кредита"
   ]
  },
  {
   "cell_type": "code",
   "execution_count": 19,
   "id": "5a5c25c5",
   "metadata": {},
   "outputs": [
    {
     "data": {
      "text/plain": [
       "array(['покупка жилья', 'приобретение автомобиля',\n",
       "       'дополнительное образование', 'сыграть свадьбу',\n",
       "       'операции с жильем', 'образование', 'на проведение свадьбы',\n",
       "       'покупка жилья для семьи', 'покупка недвижимости',\n",
       "       'покупка коммерческой недвижимости', 'покупка жилой недвижимости',\n",
       "       'строительство собственной недвижимости', 'недвижимость',\n",
       "       'строительство недвижимости', 'на покупку подержанного автомобиля',\n",
       "       'на покупку своего автомобиля',\n",
       "       'операции с коммерческой недвижимостью',\n",
       "       'строительство жилой недвижимости', 'жилье',\n",
       "       'операции со своей недвижимостью', 'автомобили',\n",
       "       'заняться образованием', 'сделка с подержанным автомобилем',\n",
       "       'получение образования', 'автомобиль', 'свадьба',\n",
       "       'получение дополнительного образования', 'покупка своего жилья',\n",
       "       'операции с недвижимостью', 'получение высшего образования',\n",
       "       'свой автомобиль', 'сделка с автомобилем',\n",
       "       'профильное образование', 'высшее образование',\n",
       "       'покупка жилья для сдачи', 'на покупку автомобиля', 'ремонт жилью',\n",
       "       'заняться высшим образованием'], dtype=object)"
      ]
     },
     "execution_count": 19,
     "metadata": {},
     "output_type": "execute_result"
    }
   ],
   "source": [
    "# перечень уникальных целей взятия кредита из столбца purpose\n",
    "data['purpose'].unique()"
   ]
  },
  {
   "cell_type": "markdown",
   "id": "8028a826",
   "metadata": {},
   "source": [
    "Столбец `purpose_category` с категориями:\n",
    "- 'операции с автомобилем',\n",
    "- 'операции с недвижимостью',\n",
    "- 'проведение свадьбы',\n",
    "- 'получение образования'."
   ]
  },
  {
   "cell_type": "code",
   "execution_count": 20,
   "id": "71f44b7a",
   "metadata": {},
   "outputs": [],
   "source": [
    "# функция для создания категорий в зависимости от целей взятия кредита\n",
    "def categorize_purpose(row):\n",
    "    try:\n",
    "        if 'автом' in row:\n",
    "            return 'операции с автомобилем'\n",
    "        elif 'жил' in row or 'недвиж' in row:\n",
    "            return 'операции с недвижимостью'\n",
    "        elif 'свад' in row:\n",
    "            return 'проведение свадьбы'\n",
    "        elif 'образов' in row:\n",
    "            return 'получение образования'\n",
    "    except:\n",
    "        return 'нет категории'"
   ]
  },
  {
   "cell_type": "code",
   "execution_count": 21,
   "id": "6c087bbd",
   "metadata": {},
   "outputs": [],
   "source": [
    "data['purpose_category'] = data['purpose'].apply(categorize_purpose)"
   ]
  },
  {
   "cell_type": "markdown",
   "id": "f9bc23cd",
   "metadata": {},
   "source": [
    "## 3 Исследовательский анализ"
   ]
  },
  {
   "cell_type": "markdown",
   "id": "73fe035b",
   "metadata": {},
   "source": [
    "### 3.1 Зависимость между количеством детей и возвратом кредита в срок"
   ]
  },
  {
   "cell_type": "code",
   "execution_count": 22,
   "id": "d4dd34da",
   "metadata": {
    "scrolled": true
   },
   "outputs": [
    {
     "data": {
      "text/html": [
       "<style type=\"text/css\">\n",
       "</style>\n",
       "<table id=\"T_af979\">\n",
       "  <thead>\n",
       "    <tr>\n",
       "      <th class=\"blank level0\" >&nbsp;</th>\n",
       "      <th id=\"T_af979_level0_col0\" class=\"col_heading level0 col0\" >total</th>\n",
       "      <th id=\"T_af979_level0_col1\" class=\"col_heading level0 col1\" >debt</th>\n",
       "      <th id=\"T_af979_level0_col2\" class=\"col_heading level0 col2\" >%</th>\n",
       "    </tr>\n",
       "    <tr>\n",
       "      <th class=\"index_name level0\" >children</th>\n",
       "      <th class=\"blank col0\" >&nbsp;</th>\n",
       "      <th class=\"blank col1\" >&nbsp;</th>\n",
       "      <th class=\"blank col2\" >&nbsp;</th>\n",
       "    </tr>\n",
       "  </thead>\n",
       "  <tbody>\n",
       "    <tr>\n",
       "      <th id=\"T_af979_level0_row0\" class=\"row_heading level0 row0\" >0</th>\n",
       "      <td id=\"T_af979_row0_col0\" class=\"data row0 col0\" >14091</td>\n",
       "      <td id=\"T_af979_row0_col1\" class=\"data row0 col1\" >1063</td>\n",
       "      <td id=\"T_af979_row0_col2\" class=\"data row0 col2\" >7.54%</td>\n",
       "    </tr>\n",
       "    <tr>\n",
       "      <th id=\"T_af979_level0_row1\" class=\"row_heading level0 row1\" >1</th>\n",
       "      <td id=\"T_af979_row1_col0\" class=\"data row1 col0\" >4808</td>\n",
       "      <td id=\"T_af979_row1_col1\" class=\"data row1 col1\" >444</td>\n",
       "      <td id=\"T_af979_row1_col2\" class=\"data row1 col2\" >9.23%</td>\n",
       "    </tr>\n",
       "    <tr>\n",
       "      <th id=\"T_af979_level0_row2\" class=\"row_heading level0 row2\" >2</th>\n",
       "      <td id=\"T_af979_row2_col0\" class=\"data row2 col0\" >2052</td>\n",
       "      <td id=\"T_af979_row2_col1\" class=\"data row2 col1\" >194</td>\n",
       "      <td id=\"T_af979_row2_col2\" class=\"data row2 col2\" >9.45%</td>\n",
       "    </tr>\n",
       "    <tr>\n",
       "      <th id=\"T_af979_level0_row3\" class=\"row_heading level0 row3\" >other</th>\n",
       "      <td id=\"T_af979_row3_col0\" class=\"data row3 col0\" >380</td>\n",
       "      <td id=\"T_af979_row3_col1\" class=\"data row3 col1\" >31</td>\n",
       "      <td id=\"T_af979_row3_col2\" class=\"data row3 col2\" >8.16%</td>\n",
       "    </tr>\n",
       "  </tbody>\n",
       "</table>\n"
      ],
      "text/plain": [
       "<pandas.io.formats.style.Styler at 0x7ff1abbefbe0>"
      ]
     },
     "execution_count": 22,
     "metadata": {},
     "output_type": "execute_result"
    }
   ],
   "source": [
    "# объединим семьи с более 2 детьми, так как в датасете их мало\n",
    "data.loc[data['children'] > 2, 'children'] = 'other'\n",
    "\n",
    "children_grouped = data.pivot_table(index = ['children'], values = 'debt', aggfunc = ['count', 'sum'])\n",
    "children_grouped.columns = ['total', 'debt']\n",
    "children_grouped['%'] = children_grouped['debt']/children_grouped['total']\n",
    "children_grouped.style.format({'%': '{:.2%}'})"
   ]
  },
  {
   "cell_type": "code",
   "execution_count": 23,
   "id": "edd45244",
   "metadata": {},
   "outputs": [
    {
     "data": {
      "image/png": "[encoded data removed]",
      "text/plain": [
       "<Figure size 1000x500 with 1 Axes>"
      ]
     },
     "metadata": {},
     "output_type": "display_data"
    }
   ],
   "source": [
    "plt.figure(figsize=(10,5))\n",
    "sns.barplot(x=children_grouped.index, y=children_grouped['%'])\n",
    "plt.xlabel('Количество детей')\n",
    "plt.ylabel('Процент задолженности, %')\n",
    "plt.title('Зависимость между количеством детей и возвратом кредита в срок')\n",
    "plt.show()"
   ]
  },
  {
   "cell_type": "markdown",
   "id": "d4b2abd9",
   "metadata": {},
   "source": [
    "**Вывод:** Процент задолженности по возврату кредитов зависит от количества детей в семье. Прослеживается общая тенденция: чем больше детей, тем чаще задолженность. Наименьшее количество задолжностей у семей без детей."
   ]
  },
  {
   "cell_type": "markdown",
   "id": "0e10e655",
   "metadata": {},
   "source": [
    "### 3.2 Зависимость между семейным положением и возвратом кредита в срок"
   ]
  },
  {
   "cell_type": "code",
   "execution_count": 24,
   "id": "36c30592",
   "metadata": {},
   "outputs": [
    {
     "data": {
      "text/html": [
       "<style type=\"text/css\">\n",
       "</style>\n",
       "<table id=\"T_c618e\">\n",
       "  <thead>\n",
       "    <tr>\n",
       "      <th class=\"blank level0\" >&nbsp;</th>\n",
       "      <th id=\"T_c618e_level0_col0\" class=\"col_heading level0 col0\" >total</th>\n",
       "      <th id=\"T_c618e_level0_col1\" class=\"col_heading level0 col1\" >debt</th>\n",
       "      <th id=\"T_c618e_level0_col2\" class=\"col_heading level0 col2\" >%</th>\n",
       "    </tr>\n",
       "    <tr>\n",
       "      <th class=\"index_name level0\" >family_status</th>\n",
       "      <th class=\"blank col0\" >&nbsp;</th>\n",
       "      <th class=\"blank col1\" >&nbsp;</th>\n",
       "      <th class=\"blank col2\" >&nbsp;</th>\n",
       "    </tr>\n",
       "  </thead>\n",
       "  <tbody>\n",
       "    <tr>\n",
       "      <th id=\"T_c618e_level0_row0\" class=\"row_heading level0 row0\" >Не женат / не замужем</th>\n",
       "      <td id=\"T_c618e_row0_col0\" class=\"data row0 col0\" >2796</td>\n",
       "      <td id=\"T_c618e_row0_col1\" class=\"data row0 col1\" >273</td>\n",
       "      <td id=\"T_c618e_row0_col2\" class=\"data row0 col2\" >9.76%</td>\n",
       "    </tr>\n",
       "    <tr>\n",
       "      <th id=\"T_c618e_level0_row1\" class=\"row_heading level0 row1\" >гражданский брак</th>\n",
       "      <td id=\"T_c618e_row1_col0\" class=\"data row1 col0\" >4134</td>\n",
       "      <td id=\"T_c618e_row1_col1\" class=\"data row1 col1\" >385</td>\n",
       "      <td id=\"T_c618e_row1_col2\" class=\"data row1 col2\" >9.31%</td>\n",
       "    </tr>\n",
       "    <tr>\n",
       "      <th id=\"T_c618e_level0_row2\" class=\"row_heading level0 row2\" >женат / замужем</th>\n",
       "      <td id=\"T_c618e_row2_col0\" class=\"data row2 col0\" >12261</td>\n",
       "      <td id=\"T_c618e_row2_col1\" class=\"data row2 col1\" >927</td>\n",
       "      <td id=\"T_c618e_row2_col2\" class=\"data row2 col2\" >7.56%</td>\n",
       "    </tr>\n",
       "    <tr>\n",
       "      <th id=\"T_c618e_level0_row3\" class=\"row_heading level0 row3\" >в разводе</th>\n",
       "      <td id=\"T_c618e_row3_col0\" class=\"data row3 col0\" >1189</td>\n",
       "      <td id=\"T_c618e_row3_col1\" class=\"data row3 col1\" >84</td>\n",
       "      <td id=\"T_c618e_row3_col2\" class=\"data row3 col2\" >7.06%</td>\n",
       "    </tr>\n",
       "    <tr>\n",
       "      <th id=\"T_c618e_level0_row4\" class=\"row_heading level0 row4\" >вдовец / вдова</th>\n",
       "      <td id=\"T_c618e_row4_col0\" class=\"data row4 col0\" >951</td>\n",
       "      <td id=\"T_c618e_row4_col1\" class=\"data row4 col1\" >63</td>\n",
       "      <td id=\"T_c618e_row4_col2\" class=\"data row4 col2\" >6.62%</td>\n",
       "    </tr>\n",
       "  </tbody>\n",
       "</table>\n"
      ],
      "text/plain": [
       "<pandas.io.formats.style.Styler at 0x7ff188997790>"
      ]
     },
     "execution_count": 24,
     "metadata": {},
     "output_type": "execute_result"
    }
   ],
   "source": [
    "family_status_grouped = data.pivot_table(index = ['family_status'], values = 'debt', aggfunc = ['count', 'sum'])\n",
    "family_status_grouped.columns = ['total', 'debt']\n",
    "family_status_grouped['%'] = family_status_grouped['debt']/family_status_grouped['total']\n",
    "family_status_grouped = family_status_grouped.sort_values(by = ['%'], ascending = False)\n",
    "family_status_grouped.style.format({'%': '{:.2%}'})"
   ]
  },
  {
   "cell_type": "code",
   "execution_count": 25,
   "id": "416bfae1",
   "metadata": {},
   "outputs": [
    {
     "data": {
      "image/png": "[encoded data removed]",
      "text/plain": [
       "<Figure size 1000x500 with 1 Axes>"
      ]
     },
     "metadata": {},
     "output_type": "display_data"
    }
   ],
   "source": [
    "plt.figure(figsize=(10,5))\n",
    "sns.barplot(x=family_status_grouped.index, y=family_status_grouped['%'])\n",
    "plt.xlabel('Семейное положение')\n",
    "plt.ylabel('Процент задолженности, %')\n",
    "plt.title('Зависимость между семейным положением и возвратом кредита в срок')\n",
    "plt.show()"
   ]
  },
  {
   "cell_type": "markdown",
   "id": "1263a52a",
   "metadata": {},
   "source": [
    "**Вывод:** Процент задолженности по возврату кредитов зависит от семейного положения. Прослеживается общая тенденция: при задокументированном браке процент задолженности меньше.\n",
    "- больше всего задолжностей у людей не женатых/не замужем.\n",
    "- люди после брака (в равзоде или вдовец/вдова) имеют низкий процент задолжности"
   ]
  },
  {
   "cell_type": "markdown",
   "id": "29408918",
   "metadata": {},
   "source": [
    "### 3.3 Зависимость между уровнем дохода и возвратом кредита в срок"
   ]
  },
  {
   "cell_type": "code",
   "execution_count": 26,
   "id": "85b20aad",
   "metadata": {},
   "outputs": [
    {
     "data": {
      "text/html": [
       "<style type=\"text/css\">\n",
       "</style>\n",
       "<table id=\"T_c786c\">\n",
       "  <thead>\n",
       "    <tr>\n",
       "      <th class=\"blank level0\" >&nbsp;</th>\n",
       "      <th id=\"T_c786c_level0_col0\" class=\"col_heading level0 col0\" >total</th>\n",
       "      <th id=\"T_c786c_level0_col1\" class=\"col_heading level0 col1\" >debt</th>\n",
       "      <th id=\"T_c786c_level0_col2\" class=\"col_heading level0 col2\" >%</th>\n",
       "    </tr>\n",
       "    <tr>\n",
       "      <th class=\"index_name level0\" >total_income_category</th>\n",
       "      <th class=\"blank col0\" >&nbsp;</th>\n",
       "      <th class=\"blank col1\" >&nbsp;</th>\n",
       "      <th class=\"blank col2\" >&nbsp;</th>\n",
       "    </tr>\n",
       "  </thead>\n",
       "  <tbody>\n",
       "    <tr>\n",
       "      <th id=\"T_c786c_level0_row0\" class=\"row_heading level0 row0\" >A</th>\n",
       "      <td id=\"T_c786c_row0_col0\" class=\"data row0 col0\" >25</td>\n",
       "      <td id=\"T_c786c_row0_col1\" class=\"data row0 col1\" >2</td>\n",
       "      <td id=\"T_c786c_row0_col2\" class=\"data row0 col2\" >8.00%</td>\n",
       "    </tr>\n",
       "    <tr>\n",
       "      <th id=\"T_c786c_level0_row1\" class=\"row_heading level0 row1\" >B</th>\n",
       "      <td id=\"T_c786c_row1_col0\" class=\"data row1 col0\" >5014</td>\n",
       "      <td id=\"T_c786c_row1_col1\" class=\"data row1 col1\" >354</td>\n",
       "      <td id=\"T_c786c_row1_col2\" class=\"data row1 col2\" >7.06%</td>\n",
       "    </tr>\n",
       "    <tr>\n",
       "      <th id=\"T_c786c_level0_row2\" class=\"row_heading level0 row2\" >C</th>\n",
       "      <td id=\"T_c786c_row2_col0\" class=\"data row2 col0\" >15921</td>\n",
       "      <td id=\"T_c786c_row2_col1\" class=\"data row2 col1\" >1353</td>\n",
       "      <td id=\"T_c786c_row2_col2\" class=\"data row2 col2\" >8.50%</td>\n",
       "    </tr>\n",
       "    <tr>\n",
       "      <th id=\"T_c786c_level0_row3\" class=\"row_heading level0 row3\" >D</th>\n",
       "      <td id=\"T_c786c_row3_col0\" class=\"data row3 col0\" >349</td>\n",
       "      <td id=\"T_c786c_row3_col1\" class=\"data row3 col1\" >21</td>\n",
       "      <td id=\"T_c786c_row3_col2\" class=\"data row3 col2\" >6.02%</td>\n",
       "    </tr>\n",
       "    <tr>\n",
       "      <th id=\"T_c786c_level0_row4\" class=\"row_heading level0 row4\" >E</th>\n",
       "      <td id=\"T_c786c_row4_col0\" class=\"data row4 col0\" >22</td>\n",
       "      <td id=\"T_c786c_row4_col1\" class=\"data row4 col1\" >2</td>\n",
       "      <td id=\"T_c786c_row4_col2\" class=\"data row4 col2\" >9.09%</td>\n",
       "    </tr>\n",
       "  </tbody>\n",
       "</table>\n"
      ],
      "text/plain": [
       "<pandas.io.formats.style.Styler at 0x7ff1ba2b9510>"
      ]
     },
     "execution_count": 26,
     "metadata": {},
     "output_type": "execute_result"
    }
   ],
   "source": [
    "total_income_category_grouped = data.pivot_table(index = ['total_income_category'], values = 'debt', aggfunc = ['count', 'sum'])\n",
    "total_income_category_grouped.columns = ['total', 'debt']\n",
    "total_income_category_grouped['%'] = total_income_category_grouped['debt']/total_income_category_grouped['total']\n",
    "total_income_category_grouped.style.format({'%': '{:.2%}'})"
   ]
  },
  {
   "cell_type": "code",
   "execution_count": 27,
   "id": "f236f1c3",
   "metadata": {},
   "outputs": [
    {
     "data": {
      "image/png": "[encoded data removed]",
      "text/plain": [
       "<Figure size 1000x500 with 1 Axes>"
      ]
     },
     "metadata": {},
     "output_type": "display_data"
    }
   ],
   "source": [
    "plt.figure(figsize=(10,5))\n",
    "sns.barplot(x=total_income_category_grouped.index, y=total_income_category_grouped['%'])\n",
    "plt.xlabel('Категория ежемесячного дохода')\n",
    "plt.ylabel('Процент задолженности, %')\n",
    "plt.title('Зависимость между уровнем дохода и возвратом кредита в срок')\n",
    "plt.show()"
   ]
  },
  {
   "cell_type": "markdown",
   "id": "da8c5479",
   "metadata": {},
   "source": [
    "**Вывод:** Общая динамика по задолжностям и уровнем дохода не прослеживается. \n",
    "* У категории А и Е маленькая выборка, которая может искажать выходные данные."
   ]
  },
  {
   "cell_type": "markdown",
   "id": "a342f518",
   "metadata": {},
   "source": [
    "### 3.4 Влияние целей кредита на его возврат в срок"
   ]
  },
  {
   "cell_type": "code",
   "execution_count": 28,
   "id": "0941d21d",
   "metadata": {},
   "outputs": [
    {
     "data": {
      "text/html": [
       "<div>\n",
       "<style scoped>\n",
       "    .dataframe tbody tr th:only-of-type {\n",
       "        vertical-align: middle;\n",
       "    }\n",
       "\n",
       "    .dataframe tbody tr th {\n",
       "        vertical-align: top;\n",
       "    }\n",
       "\n",
       "    .dataframe thead tr th {\n",
       "        text-align: left;\n",
       "    }\n",
       "\n",
       "    .dataframe thead tr:last-of-type th {\n",
       "        text-align: right;\n",
       "    }\n",
       "</style>\n",
       "<table border=\"1\" class=\"dataframe\">\n",
       "  <thead>\n",
       "    <tr>\n",
       "      <th></th>\n",
       "      <th colspan=\"2\" halign=\"left\">debt</th>\n",
       "      <th>%</th>\n",
       "    </tr>\n",
       "    <tr>\n",
       "      <th></th>\n",
       "      <th>count</th>\n",
       "      <th>sum</th>\n",
       "      <th></th>\n",
       "    </tr>\n",
       "    <tr>\n",
       "      <th>purpose_category</th>\n",
       "      <th></th>\n",
       "      <th></th>\n",
       "      <th></th>\n",
       "    </tr>\n",
       "  </thead>\n",
       "  <tbody>\n",
       "    <tr>\n",
       "      <th>операции с недвижимостью</th>\n",
       "      <td>1075100</td>\n",
       "      <td>78000</td>\n",
       "      <td>7.26</td>\n",
       "    </tr>\n",
       "    <tr>\n",
       "      <th>проведение свадьбы</th>\n",
       "      <td>231300</td>\n",
       "      <td>18300</td>\n",
       "      <td>7.91</td>\n",
       "    </tr>\n",
       "    <tr>\n",
       "      <th>получение образования</th>\n",
       "      <td>398800</td>\n",
       "      <td>36900</td>\n",
       "      <td>9.25</td>\n",
       "    </tr>\n",
       "    <tr>\n",
       "      <th>операции с автомобилем</th>\n",
       "      <td>427900</td>\n",
       "      <td>40000</td>\n",
       "      <td>9.35</td>\n",
       "    </tr>\n",
       "  </tbody>\n",
       "</table>\n",
       "</div>"
      ],
      "text/plain": [
       "                             debt            %\n",
       "                            count    sum      \n",
       "purpose_category                              \n",
       "операции с недвижимостью  1075100  78000  7.26\n",
       "проведение свадьбы         231300  18300  7.91\n",
       "получение образования      398800  36900  9.25\n",
       "операции с автомобилем     427900  40000  9.35"
      ]
     },
     "execution_count": 28,
     "metadata": {},
     "output_type": "execute_result"
    }
   ],
   "source": [
    "purpose_category_grouped = data.groupby('purpose_category').agg({'debt': ['count', 'sum']})\n",
    "purpose_category_grouped['%'] = purpose_category_grouped['debt']['sum']/purpose_category_grouped['debt']['count']\n",
    "purpose_category_grouped= round(purpose_category_grouped.sort_values(by = '%')*100,2)\n",
    "purpose_category_grouped"
   ]
  },
  {
   "cell_type": "code",
   "execution_count": 29,
   "id": "345ac0f0",
   "metadata": {},
   "outputs": [
    {
     "data": {
      "image/png": "[encoded data removed]",
      "text/plain": [
       "<Figure size 1000x500 with 1 Axes>"
      ]
     },
     "metadata": {},
     "output_type": "display_data"
    }
   ],
   "source": [
    "plt.figure(figsize=(10,5))\n",
    "sns.barplot(x=purpose_category_grouped['%'], y=purpose_category_grouped.index)\n",
    "plt.xlabel('Процент задолженности, %')\n",
    "plt.ylabel('Цель получения кредита')\n",
    "plt.title('Зависимость между уровнем дохода и возвратом кредита в срок')\n",
    "plt.show()"
   ]
  },
  {
   "cell_type": "markdown",
   "id": "5899b774",
   "metadata": {},
   "source": [
    "**Вывод:** Причины возникновения задолжностей в зависимости от цели получения кредита не ясны. Меньше всего задолжностей при операциях с недвижимостью, больше всего - операции с автомобилем."
   ]
  },
  {
   "cell_type": "markdown",
   "id": "7f317e67",
   "metadata": {},
   "source": [
    "## 4 Выводы\n",
    "Полученные данные были проанализированы. Выяснилось, что **при выдаче кредита необходимо обращать внимание на количество детей в семье и на семейное положение.**\n",
    "* У семей без детей процент задолжностей - 7.54%, когда семьи с 2 детьми имеют процент задолжности - 9.45%. \n",
    "* При задокументированном браке процент задолженности меньше. У человека в браке процент задолжности составляет 7.56%, у не женатого/ не замужнего человека - 9.76%."
   ]
  }
 ],
 "metadata": {
  "kernelspec": {
   "display_name": "Python 3 (ipykernel)",
   "language": "python",
   "name": "python3"
  },
  "language_info": {
   "codemirror_mode": {
    "name": "ipython",
    "version": 3
   },
   "file_extension": ".py",
   "mimetype": "text/x-python",
   "name": "python",
   "nbconvert_exporter": "python",
   "pygments_lexer": "ipython3",
   "version": "3.10.9"
  }
 },
 "nbformat": 4,
 "nbformat_minor": 5
}
